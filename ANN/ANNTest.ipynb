{
 "cells": [
  {
   "cell_type": "code",
   "execution_count": 22,
   "metadata": {
    "collapsed": false
   },
   "outputs": [
    {
     "name": "stdout",
     "output_type": "stream",
     "text": [
      "Populating the interactive namespace from numpy and matplotlib\n"
     ]
    }
   ],
   "source": [
    "%pylab inline\n",
    "%matplotlib inline\n",
    "import numpy as np\n",
    "from numpy.random import shuffle\n",
    "from sklearn import preprocessing\n",
    "from sklearn.decomposition import PCA"
   ]
  },
  {
   "cell_type": "code",
   "execution_count": 23,
   "metadata": {
    "collapsed": false,
    "scrolled": false
   },
   "outputs": [
    {
     "name": "stdout",
     "output_type": "stream",
     "text": [
      "<class 'numpy.ndarray'>\n"
     ]
    }
   ],
   "source": [
    "import wget\n",
    "\n",
    "# load data from file\n",
    "# BN=loadtxt('./data/banknote-authentication')\n",
    "CBD=loadtxt('dataset2.txt')\n",
    "print(type(CBD))\n",
    "shuffle(CBD)\n",
    "# print(\"old Bank Note Data: \")\n",
    "# print(BN)\n",
    "# print(\"new Bank Note Data: \")\n",
    "# # shuffle(BN)\n",
    "# print(BN)\n",
    "\n",
    "# load data from file"
   ]
  },
  {
   "cell_type": "code",
   "execution_count": 24,
   "metadata": {
    "collapsed": false
   },
   "outputs": [],
   "source": [
    "class_labels_CBD =CBD[:,-1]"
   ]
  },
  {
   "cell_type": "code",
   "execution_count": 25,
   "metadata": {
    "collapsed": false
   },
   "outputs": [],
   "source": [
    "class_labels_CBD= [ int(x) for x in class_labels_CBD ]\n",
    "class_labels_CBD = np.asarray(class_labels_CBD)"
   ]
  },
  {
   "cell_type": "code",
   "execution_count": 26,
   "metadata": {
    "collapsed": false
   },
   "outputs": [
    {
     "name": "stdout",
     "output_type": "stream",
     "text": [
      "[1 1 0 0 0 1 0 1 0 0 1 0 1 1 1 0 1 0 0 1 0 0 0 0 1 1 1 1 0 0 1 1 1 0 1 0 0\n",
      " 1 0 1 0 1 1 1 0 1 0 1 0 1 0 0 0 1 0 1 0 0 1 0 1 0 0 0 0 1 0 1 1 0 1 1 0 1\n",
      " 0 0 0 1 0 0 0 0 1 0 0 0 0 0 1 0 1 0 0 0 0 0 0 0 0 0 0 1 1 1 1 1 1 1 1 0 1\n",
      " 1 0 0 0 1 0 1 0 0 1 0 1 1 0 1 1 1 0 0 0 0 0 1 0 0 1 0 0 1 0 0 0 0 1 1 1 1\n",
      " 0 1 0 1 0 0 0 0 1 0 1 0 0 1 1 1 0 1 0 1 0 1 0 1 0 1 1 0 0 0 1 1 1 1 0 0 0\n",
      " 0 1 0 1 0 0 0 0 0 0 1 0 1 1 1 1 1 1 0 0 1 1 0 0 0 1 0 1 1 1 0 0 0 1 1 0 0\n",
      " 0 1 0 0 1 1 0 1 1 1 0 1 0 0 0 1 1 1 0 0 1 0 0 0 1 0 1 1 0 0 1 0 0 0 0 0 1\n",
      " 1 1 1 1 1 1 1 0 1 0 0 1 1 1 0 0 0 1 1 0 0 1 0 0 0 1 0 0 0 0 0 1 0 1 0 0 0\n",
      " 0 1 0 1 1 1 0 0 1 0 0 1 0 1 0 1 1 0 0 0 0 1 0 1 0 0 0 1 1 1 0 1 0 1 0 0 0\n",
      " 1 0 1 0 0 0 1 0 1 1 0 1 1 1 1 1 1 1 0 0 0 0 1 1 0 0 1 0 0 1 1 1 1 1 1 0 0\n",
      " 0 1 1 0 1 0 0 1 0 0 0 0 1 1 1 1 0 0 1 0 1 1 0 0 1 1 1 1 0 0 1 0 0 1 1 1 1\n",
      " 1 0 1 1 1 1 1 0 0 0 0 1 0 1 0 0 0 0 0 1 0 1 0 0 0 0 1 1 0 0 0 0 0 0 0 0 0\n",
      " 1 1 1 0 0 0 1 1 1 1 1 1 0 1 1 1 1 0 0 1 0 1 1 1 0 0 1 0 1 0 1 0 1 0 1 1 1\n",
      " 0 1 0 1 0 0 1 1 0 0 1 0 0 0 1 0 1 1 0 1 0 0 1 0 1 1 1 0 0 1 1 1 0 1 0 0 0\n",
      " 1 1 0 1 0 0 0 0 0 0 1 0 1 0 0 0 1 0 0 0 1 1 0 1 1 1 1 0 1 0 1 1 0 1 0 1 0\n",
      " 0 1 1 0]\n",
      "559\n"
     ]
    }
   ],
   "source": [
    "print(class_labels_CBD)\n",
    "print(len(class_labels_CBD))"
   ]
  },
  {
   "cell_type": "code",
   "execution_count": 27,
   "metadata": {
    "collapsed": false
   },
   "outputs": [
    {
     "name": "stdout",
     "output_type": "stream",
     "text": [
      "[[-0.01428744 -0.36314785 -0.01431627  0.0740798   0.55440818]\n",
      " [ 0.26467975  0.23864897  0.10712325  1.55550872  0.66039833]\n",
      " [ 0.08676525  0.32294399  0.09809743  1.30260771  0.98290105]\n",
      " ..., \n",
      " [ 0.04665798  0.12162021  0.12410003  5.81189644  0.33605105]\n",
      " [ 0.14638659 -0.08622061  0.09318823  0.49053819  0.60706896]\n",
      " [ 0.36328288  0.64621705  0.08290877  2.47620853  1.53474831]]\n",
      "[[-0.01428744 -0.36314785 -0.01431627  0.0740798   0.55440818]\n",
      " [ 0.26467975  0.23864897  0.10712325  1.55550872  0.66039833]\n",
      " [ 0.08676525  0.32294399  0.09809743  1.30260771  0.98290105]\n",
      " ..., \n",
      " [ 0.04665798  0.12162021  0.12410003  5.81189644  0.33605105]\n",
      " [ 0.14638659 -0.08622061  0.09318823  0.49053819  0.60706896]\n",
      " [ 0.36328288  0.64621705  0.08290877  2.47620853  1.53474831]]\n"
     ]
    }
   ],
   "source": [
    "data_CBD=CBD[:,0:-1]\n",
    "print(data_CBD)\n",
    "\n",
    "# pca_CBD = PCA(n_components=2)\n",
    "# pca_CBD.fit(data_CBD)\n",
    "# data_CBD = pca_CBD.transform(data_CBD) \n",
    "\n",
    "# print(\"scaled data: \")\n",
    "print(data_CBD)\n"
   ]
  },
  {
   "cell_type": "code",
   "execution_count": 28,
   "metadata": {
    "collapsed": false
   },
   "outputs": [],
   "source": [
    "from sklearn.model_selection import cross_val_score\n",
    "from sklearn.neural_network import MLPClassifier"
   ]
  },
  {
   "cell_type": "code",
   "execution_count": 34,
   "metadata": {
    "collapsed": false
   },
   "outputs": [
    {
     "name": "stdout",
     "output_type": "stream",
     "text": [
      "[0.71200626986025206, 0.70653850753408276, 0.72616613136524644, 0.73707375200738035, 0.71379340781995637, 0.73855522716142186, 0.70296622475826021, 0.72623133563399056, 0.72450883247343423, 0.72795298459015279, 0.74772539606610411, 0.72973784467147296, 0.73691259211170723, 0.73337419277684768, 0.75467434881151696, 0.76572533342444848, 0.75477172811243609, 0.76387612327877807, 0.7422863919545335, 0.71892674912586418, 0.75834173300987451, 0.73527138073598253, 0.73503177640345785, 0.74228582248493757, 0.75673241193152696, 0.73329432466600597, 0.74048487488752968, 0.7314925228642043, 0.74946199359916177, 0.75477058917324402, 0.73504786391954524, 0.74946227833395973, 0.73332507602419117, 0.7315399312080727, 0.74046850263664421, 0.75115146752314899, 0.74220623910889394, 0.75662093825810639, 0.74600203870115367, 0.75121467864830682, 0.73166806186717692, 0.74234988781448963, 0.75475478639195459, 0.74053171376180216, 0.74407267570984392, 0.74046907210624036, 0.72803256796619631, 0.73877902871265699, 0.72977030443844593]\n"
     ]
    }
   ],
   "source": [
    "n_range_CBD = range(1,50)\n",
    "n_scores_CBD = list()\n",
    "for n in n_range_CBD:\n",
    "    mlp_CBD = MLPClassifier(activation = 'logistic', solver='lbfgs', alpha=1e-5,hidden_layer_sizes=(n, n, n ))\n",
    "    scores_CBD = cross_val_score(mlp_CBD,data_CBD,class_labels_CBD, cv=5, scoring = \"accuracy\")\n",
    "    n_scores_CBD.append(scores_CBD.mean())\n",
    "print(n_scores_CBD)"
   ]
  },
  {
   "cell_type": "code",
   "execution_count": null,
   "metadata": {
    "collapsed": false
   },
   "outputs": [],
   "source": []
  },
  {
   "cell_type": "code",
   "execution_count": 37,
   "metadata": {
    "collapsed": false
   },
   "outputs": [
    {
     "name": "stdout",
     "output_type": "stream",
     "text": [
      "number nodes:  16\n",
      "accuracy:  76.5725333424 %\n",
      "accuracy:  76.57 %\n"
     ]
    }
   ],
   "source": [
    "\n",
    "def find_opt_nodes(n_scores):\n",
    "    max_num = max(n_scores)\n",
    "    for i in range(len(n_scores)):\n",
    "        if n_scores[i] == max_num:\n",
    "            print(\"number nodes: \", i+1)\n",
    "            print(\"accuracy: \", max_num*100, \"%\")\n",
    "            print(\"accuracy: \", round(max_num*100,2),\"%\")\n",
    "            return i+1\n",
    "        \n",
    "\n",
    "n_CBD = find_opt_nodes(n_scores_CBD)"
   ]
  },
  {
   "cell_type": "code",
   "execution_count": 36,
   "metadata": {
    "collapsed": false
   },
   "outputs": [
    {
     "data": {
      "text/plain": [
       "<matplotlib.legend.Legend at 0x120a6e160>"
      ]
     },
     "execution_count": 36,
     "metadata": {},
     "output_type": "execute_result"
    },
    {
     "data": {
      "image/png": "[encoded data removed]",
      "text/plain": [
       "<matplotlib.figure.Figure at 0x11a8d9898>"
      ]
     },
     "metadata": {},
     "output_type": "display_data"
    }
   ],
   "source": [
    "import matplotlib.pyplot as plt\n",
    "\n",
    "figure()\n",
    "figsize(8,8)\n",
    "plt.plot(n_range_CBD,n_scores_CBD,\"b\", label =\"Bank Note Data\")\n",
    "plt.xlabel(\"number of possible nodes in the network\")\n",
    "plt.ylabel(\"cross val accuracy\")\n",
    "legend(loc = \"best\")\n"
   ]
  },
  {
   "cell_type": "code",
   "execution_count": null,
   "metadata": {
    "collapsed": true
   },
   "outputs": [],
   "source": []
  },
  {
   "cell_type": "code",
   "execution_count": null,
   "metadata": {
    "collapsed": true
   },
   "outputs": [],
   "source": []
  },
  {
   "cell_type": "code",
   "execution_count": null,
   "metadata": {
    "collapsed": true
   },
   "outputs": [],
   "source": []
  }
 ],
 "metadata": {
  "kernelspec": {
   "display_name": "Python 3",
   "language": "python",
   "name": "python3"
  },
  "language_info": {
   "codemirror_mode": {
    "name": "ipython",
    "version": 3
   },
   "file_extension": ".py",
   "mimetype": "text/x-python",
   "name": "python",
   "nbconvert_exporter": "python",
   "pygments_lexer": "ipython3",
   "version": "3.6.0"
  }
 },
 "nbformat": 4,
 "nbformat_minor": 2
}
