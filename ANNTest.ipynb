{
 "cells": [
  {
   "cell_type": "code",
   "execution_count": 1,
   "metadata": {
    "collapsed": false
   },
   "outputs": [
    {
     "name": "stdout",
     "output_type": "stream",
     "text": [
      "Populating the interactive namespace from numpy and matplotlib\n"
     ]
    }
   ],
   "source": [
    "%pylab inline\n",
    "%matplotlib inline\n",
    "import numpy as np\n",
    "from numpy.random import shuffle\n",
    "from sklearn import preprocessing\n",
    "from sklearn.decomposition import PCA"
   ]
  },
  {
   "cell_type": "code",
   "execution_count": 2,
   "metadata": {
    "collapsed": false,
    "scrolled": false
   },
   "outputs": [],
   "source": [
    "import wget\n",
    "\n",
    "# load data from file\n",
    "# BN=loadtxt('./data/banknote-authentication')\n",
    "CBD=loadtxt('dataset2.txt')\n",
    "# print(\"old Bank Note Data: \")\n",
    "# print(BN)\n",
    "# print(\"new Bank Note Data: \")\n",
    "# # shuffle(BN)\n",
    "# print(BN)\n",
    "\n",
    "# load data from file"
   ]
  },
  {
   "cell_type": "code",
   "execution_count": 3,
   "metadata": {
    "collapsed": false
   },
   "outputs": [],
   "source": [
    "class_labels_CBD =CBD[:,-1]"
   ]
  },
  {
   "cell_type": "code",
   "execution_count": 4,
   "metadata": {
    "collapsed": false
   },
   "outputs": [],
   "source": [
    "class_labels_CBD= [ int(x) for x in class_labels_CBD ]\n",
    "class_labels_CBD = np.asarray(class_labels_CBD)"
   ]
  },
  {
   "cell_type": "code",
   "execution_count": 5,
   "metadata": {
    "collapsed": false
   },
   "outputs": [
    {
     "name": "stdout",
     "output_type": "stream",
     "text": [
      "[0 0 0 0 0 0 0 0 0 0 0 0 0 0 0 0 0 0 0 0 0 0 0 0 0 0 0 0 0 0 0 0 0 0 0 0 0\n",
      " 0 0 0 0 0 0 0 0 0 0 0 0 0 0 0 0 0 0 0 0 0 0 0 0 0 0 0 0 0 0 0 0 0 0 0 0 0\n",
      " 0 0 0 0 0 0 0 0 0 0 0 0 0 0 0 0 0 0 0 0 0 0 0 0 0 0 0 0 0 0 0 0 0 0 0 0 0\n",
      " 0 0 0 0 0 0 0 0 0 0 0 0 0 0 0 0 0 0 0 0 0 0 0 0 0 0 0 0 0 0 0 0 0 0 0 0 0\n",
      " 0 0 0 0 0 0 0 0 0 0 0 0 0 0 0 0 0 0 0 0 0 0 0 0 0 0 0 0 0 0 0 0 0 0 0 0 0\n",
      " 0 0 0 0 0 0 0 0 0 0 0 0 0 0 0 0 0 0 0 0 0 0 0 0 0 0 0 0 0 0 0 0 0 0 0 0 0\n",
      " 0 0 0 0 0 0 0 0 0 0 0 0 0 0 0 0 0 0 0 0 0 0 0 0 0 0 0 0 0 0 0 0 0 0 0 0 0\n",
      " 0 0 0 0 0 0 0 0 0 0 0 0 0 0 0 0 0 0 0 0 0 0 0 0 0 0 0 0 0 0 0 0 0 0 0 0 0\n",
      " 0 0 0 0 1 1 1 1 1 1 1 1 1 1 1 1 1 1 1 1 1 1 1 1 1 1 1 1 1 1 1 1 1 1 1 1 1\n",
      " 1 1 1 1 1 1 1 1 1 1 1 1 1 1 1 1 1 1 1 1 1 1 1 1 1 1 1 1 1 1 1 1 1 1 1 1 1\n",
      " 1 1 1 1 1 1 1 1 1 1 1 1 1 1 1 1 1 1 1 1 1 1 1 1 1 1 1 1 1 1 1 1 1 1 1 1 1\n",
      " 1 1 1 1 1 1 1 1 1 1 1 1 1 1 1 1 1 1 1 1 1 1 1 1 1 1 1 1 1 1 1 1 1 1 1 1 1\n",
      " 1 1 1 1 1 1 1 1 1 1 1 1 1 1 1 1 1 1 1 1 1 1 1 1 1 1 1 1 1 1 1 1 1 1 1 1 1\n",
      " 1 1 1 1 1 1 1 1 1 1 1 1 1 1 1 1 1 1 1 1 1 1 1 1 1 1 1 1 1 1 1 1 1 1 1 1 1\n",
      " 1 1 1 1 1 1 1 1 1 1 1 1 1 1 1 1 1 1 1 1 1 1 1 1 1 1 1 1 1 1 1 1 1 1 1 1 1\n",
      " 1]\n",
      "556\n"
     ]
    }
   ],
   "source": [
    "print(class_labels_CBD)\n",
    "print(len(class_labels_CBD))"
   ]
  },
  {
   "cell_type": "code",
   "execution_count": 6,
   "metadata": {
    "collapsed": false
   },
   "outputs": [
    {
     "name": "stdout",
     "output_type": "stream",
     "text": [
      "[[ 0.18584133  0.22987825  0.15035332  2.26796244  1.72085425]\n",
      " [ 0.16285377  0.2936199   0.14842959  2.1121061   1.72671183]\n",
      " [ 0.14933276  0.34758988  0.1399858   1.68975144  1.7348658 ]\n",
      " ..., \n",
      " [ 0.14638659 -0.08622061  0.09318823  0.49053819  0.60706896]\n",
      " [ 0.16990824 -0.09176523  0.0828655   0.42001256  0.59137279]\n",
      " [ 0.16990824 -0.09176523  0.0828655   0.42001256  0.59137279]]\n",
      "[[ 0.18584133  0.22987825  0.15035332  2.26796244  1.72085425]\n",
      " [ 0.16285377  0.2936199   0.14842959  2.1121061   1.72671183]\n",
      " [ 0.14933276  0.34758988  0.1399858   1.68975144  1.7348658 ]\n",
      " ..., \n",
      " [ 0.14638659 -0.08622061  0.09318823  0.49053819  0.60706896]\n",
      " [ 0.16990824 -0.09176523  0.0828655   0.42001256  0.59137279]\n",
      " [ 0.16990824 -0.09176523  0.0828655   0.42001256  0.59137279]]\n"
     ]
    }
   ],
   "source": [
    "data_CBD=CBD[:,0:-1]\n",
    "print(data_CBD)\n",
    "\n",
    "# pca_CBD = PCA(n_components=2)\n",
    "# pca_CBD.fit(data_CBD)\n",
    "# data_CBD = pca_CBD.transform(data_CBD) \n",
    "\n",
    "# print(\"scaled data: \")\n",
    "print(data_CBD)\n"
   ]
  },
  {
   "cell_type": "code",
   "execution_count": 7,
   "metadata": {
    "collapsed": false
   },
   "outputs": [],
   "source": [
    "from sklearn.model_selection import cross_val_score\n",
    "from sklearn.neural_network import MLPClassifier"
   ]
  },
  {
   "cell_type": "code",
   "execution_count": 8,
   "metadata": {
    "collapsed": false
   },
   "outputs": [
    {
     "name": "stdout",
     "output_type": "stream",
     "text": [
      "[0.52155727155727161, 0.5954311454311455, 0.69971042471042477, 0.69237451737451727, 0.65106177606177607, 0.6779440154440155, 0.68693693693693691, 0.67252252252252254, 0.68700128700128693, 0.67435649935649933, 0.65460102960102962, 0.70313706563706568, 0.70860682110682105, 0.67607786357786359, 0.66348133848133839, 0.64913127413127403, 0.66706885456885456, 0.67257078507078505, 0.70307271557271545, 0.68865830115830118, 0.68339768339768336, 0.65622586872586863, 0.68325289575289572, 0.65812419562419566, 0.66352960102960101, 0.65802767052767053, 0.67064028314028312, 0.65450450450450448, 0.66357786357786352, 0.65637065637065639, 0.66531531531531529, 0.6545205920205921, 0.67794401544401539, 0.64729729729729724, 0.66528314028314017, 0.64726512226512223, 0.67609395109395121, 0.67606177606177609, 0.6382722007722007, 0.65632239382239388, 0.66891891891891886, 0.67425997425997419, 0.67604568854568847, 0.69592985842985844, 0.6508526383526384, 0.69052445302445309, 0.6868886743886744, 0.66895109395109387, 0.66169562419562411, 0.6868725868725869, 0.66710102960102957, 0.64724903474903461, 0.64366151866151866, 0.71389961389961387, 0.65984555984555981, 0.68157979407979408, 0.67791184041184038, 0.66351351351351351, 0.69231016731016726, 0.64555984555984547, 0.66887065637065635, 0.65802767052767053, 0.6868886743886744, 0.66895109395109409, 0.65263835263835257, 0.67966537966537965, 0.67062419562419562, 0.67789575289575288, 0.65091698841698853, 0.66526705276705278, 0.67429214929214931, 0.67073680823680826, 0.67430823680823682, 0.68326898326898333, 0.67427606177606181, 0.70669240669240674, 0.66526705276705278, 0.66164736164736171, 0.69769948519948521, 0.65999034749034746, 0.66718146718146709, 0.6508526383526384, 0.65268661518661519, 0.68146718146718155, 0.66528314028314028, 0.65981338481338481, 0.68867438867438868, 0.66891891891891897, 0.68330115830115834, 0.66706885456885456, 0.67435649935649933, 0.68513513513513513, 0.65984555984555981, 0.69411196911196915, 0.67615830115830122, 0.67068854568854575, 0.68143500643500643, 0.66171171171171173, 0.64546332046332044, 0.65997425997425996]\n"
     ]
    }
   ],
   "source": [
    "n_range_CBD = range(1,101)\n",
    "n_scores_CBD = list()\n",
    "for n in n_range_CBD:\n",
    "    mlp_CBD = MLPClassifier(solver='lbfgs', alpha=1e-5,hidden_layer_sizes=(n, n, n ))\n",
    "    scores_CBD = cross_val_score(mlp_CBD,data_CBD,class_labels_CBD, cv=5, scoring = \"accuracy\")\n",
    "    n_scores_CBD.append(scores_CBD.mean())\n",
    "print(n_scores_CBD)"
   ]
  },
  {
   "cell_type": "code",
   "execution_count": 9,
   "metadata": {
    "collapsed": false
   },
   "outputs": [
    {
     "name": "stdout",
     "output_type": "stream",
     "text": [
      "number nodes:  54\n",
      "accuracy:  71.38996139 %\n",
      "accuracy:  71.39 %\n"
     ]
    }
   ],
   "source": [
    "def find_opt_nodes(n_scores):\n",
    "    max_num = max(n_scores)\n",
    "    for i in range(len(n_scores)):\n",
    "        if n_scores[i] == max_num:\n",
    "            print(\"number nodes: \", i+1)\n",
    "            print(\"accuracy: \", max_num*100, \"%\")\n",
    "            print(\"accuracy: \", round(max_num*100,2),\"%\")\n",
    "            return i+1\n",
    "        \n",
    "\n",
    "n_CBD = find_opt_nodes(n_scores_CBD)"
   ]
  },
  {
   "cell_type": "code",
   "execution_count": 11,
   "metadata": {
    "collapsed": false
   },
   "outputs": [
    {
     "data": {
      "text/plain": [
       "<matplotlib.legend.Legend at 0x10db869e8>"
      ]
     },
     "execution_count": 11,
     "metadata": {},
     "output_type": "execute_result"
    },
    {
     "data": {
      "image/png": "[encoded data removed]",
      "text/plain": [
       "<matplotlib.figure.Figure at 0x10dbdada0>"
      ]
     },
     "metadata": {},
     "output_type": "display_data"
    }
   ],
   "source": [
    "import matplotlib.pyplot as plt\n",
    "\n",
    "figure()\n",
    "plt.plot(n_range_CBD,n_scores_CBD,\"b\", label =\"Bank Note Data\")\n",
    "plt.xlabel(\"number of possible nodes in the network\")\n",
    "plt.ylabel(\"cross val accuracy\")\n",
    "legend(loc = \"best\")\n"
   ]
  },
  {
   "cell_type": "code",
   "execution_count": null,
   "metadata": {
    "collapsed": true
   },
   "outputs": [],
   "source": []
  },
  {
   "cell_type": "code",
   "execution_count": null,
   "metadata": {
    "collapsed": true
   },
   "outputs": [],
   "source": []
  }
 ],
 "metadata": {
  "kernelspec": {
   "display_name": "Python 3",
   "language": "python",
   "name": "python3"
  },
  "language_info": {
   "codemirror_mode": {
    "name": "ipython",
    "version": 3
   },
   "file_extension": ".py",
   "mimetype": "text/x-python",
   "name": "python",
   "nbconvert_exporter": "python",
   "pygments_lexer": "ipython3",
   "version": "3.6.0"
  }
 },
 "nbformat": 4,
 "nbformat_minor": 2
}
